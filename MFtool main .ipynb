{
 "cells": [
  {
   "cell_type": "code",
   "execution_count": 1,
   "id": "97647b26",
   "metadata": {},
   "outputs": [],
   "source": [
    "#pip install mftool"
   ]
  },
  {
   "cell_type": "code",
   "execution_count": 2,
   "id": "3c4f2c75",
   "metadata": {},
   "outputs": [],
   "source": [
    "#pip instal datetime"
   ]
  },
  {
   "cell_type": "code",
   "execution_count": 3,
   "id": "832c4c37",
   "metadata": {},
   "outputs": [],
   "source": [
    "    #import pandas as pd\n",
    "    #from mftool import Mftool\n",
    "    #from datetime import datetime, timedelta"
   ]
  },
  {
   "cell_type": "code",
   "execution_count": null,
   "id": "448ba930",
   "metadata": {},
   "outputs": [],
   "source": [
    "mf = Mftool()"
   ]
  },
  {
   "cell_type": "code",
   "execution_count": null,
   "id": "4c2ad9d7",
   "metadata": {},
   "outputs": [],
   "source": [
    "# Getting the scheme codes of mutual funds\n",
    "#scheme_codes = mf.get_scheme_codes()\n",
    "#scheme_codes\n"
   ]
  },
  {
   "cell_type": "code",
   "execution_count": null,
   "id": "3bdc8c5a",
   "metadata": {},
   "outputs": [],
   "source": [
    "# Convert the scheme_codes dictionary to a DataFrame\n",
    "#df = pd.DataFrame.from_dict(scheme_codes, orient='index', columns=['Scheme Name'])\n",
    "\n",
    "# Save the DataFrame to a CSV file\n",
    "#df.to_csv('scheme_codes.csv')"
   ]
  },
  {
   "cell_type": "code",
   "execution_count": null,
   "id": "a86eac6d",
   "metadata": {},
   "outputs": [],
   "source": [
    "    #Scheme Code: 101738\n",
    "    # Date : 03-04-2006\n",
    "    # current Date : 20-07-2023"
   ]
  },
  {
   "cell_type": "code",
   "execution_count": 1,
   "id": "4bafe107",
   "metadata": {},
   "outputs": [
    {
     "name": "stdout",
     "output_type": "stream",
     "text": [
      "Enter Scheme Code: 101738\n",
      "Enter start date (DD-MM-YYYY): 03-04-2006\n",
      "Data for Scheme Code '101738' and Scheme Name 'Aditya Birla Sun Life Dividend Yield Fund - Growth - Regular Plan' saved to E:/mftool/Aditya Birla Sun Life Dividend Yield Fund - Growth - Regular Plan_101738_returns.xlsx\n"
     ]
    }
   ],
   "source": [
    "import pandas as pd\n",
    "from mftool import Mftool\n",
    "from datetime import datetime, timedelta\n",
    "import os\n",
    "\n",
    "# Function to calculate returns for different time frames starting from a specific date\n",
    "def calculate_returns1(latest_nav, nav_series, n):\n",
    "    return (((latest_nav / nav_series.shift(n))) - 1)*100\n",
    "\n",
    "# Function to calculate returns for different time frames starting from a specific date\n",
    "def calculate_returns(latest_nav, nav_series, n):\n",
    "    return (((latest_nav / nav_series.shift(n)) ** (1 / n)) - 1)*100\n",
    "\n",
    "# Initialize Mftool\n",
    "mf = Mftool()\n",
    "\n",
    "# Manual input of scheme code and start date\n",
    "scheme_code = input(\"Enter Scheme Code: \")\n",
    "start_date = input(\"Enter start date (DD-MM-YYYY): \")\n",
    "\n",
    "# Convert start_date to datetime object\n",
    "start_date_obj = datetime.strptime(start_date, \"%d-%m-%Y\")\n",
    "\n",
    "# Check if the input scheme code exists in the list of scheme codes\n",
    "scheme_codes = mf.get_scheme_codes()\n",
    "if scheme_code not in scheme_codes:\n",
    "    print(f\"Invalid Scheme Code '{scheme_code}'. Please enter a valid scheme code.\")\n",
    "else:\n",
    "    # Create a list to store the results for the current scheme\n",
    "    results = []\n",
    "\n",
    "    # Fetch historical NAV data for the given scheme code and date range\n",
    "    nav_data = mf.get_scheme_historical_nav(scheme_code, start_date_obj, datetime.today())\n",
    "\n",
    "    # Extract the actual NAV data from the dictionary\n",
    "    nav_data = nav_data['data']\n",
    "\n",
    "    # Create a DataFrame from the NAV data\n",
    "    nav_df = pd.DataFrame(nav_data)\n",
    "\n",
    "    # Convert the \"nav\" column to numeric values\n",
    "    nav_df[\"nav\"] = pd.to_numeric(nav_df[\"nav\"], errors=\"coerce\")\n",
    "\n",
    "    # Filter out any missing or zero NAV values\n",
    "    nav_df = nav_df.dropna(subset=[\"nav\"]).query(\"nav != 0\")\n",
    "\n",
    "    # Convert the \"date\" column to datetime objects\n",
    "    nav_df[\"date\"] = pd.to_datetime(nav_df[\"date\"], format=\"%d-%m-%Y\")\n",
    "\n",
    "    # Sort the NAV data by date in ascending order\n",
    "    nav_df.sort_values(\"date\", inplace=True)\n",
    "\n",
    "    # Calculate returns for different time frames starting from each date\n",
    "    nav_df[\"1 Year Return\"] = calculate_returns1(nav_df[\"nav\"], nav_df[\"nav\"], 249)\n",
    "    nav_df[\"2 Year Return\"] = calculate_returns(nav_df[\"nav\"], nav_df[\"nav\"].shift(250*2-1), 2)\n",
    "    nav_df[\"3 Year Return\"] = calculate_returns(nav_df[\"nav\"], nav_df[\"nav\"].shift(250*3-1), 3)\n",
    "    nav_df[\"5 Year Return\"] = calculate_returns(nav_df[\"nav\"], nav_df[\"nav\"].shift(250*5-1), 5)\n",
    "    nav_df[\"10 Year Return\"] = calculate_returns(nav_df[\"nav\"], nav_df[\"nav\"].shift(250*10-1), 10)\n",
    "\n",
    "\n",
    "    # Filter the data to include only rows within the specified date range\n",
    "    nav_df = nav_df[(nav_df[\"date\"] >= start_date_obj) & (nav_df[\"date\"] <= datetime.today())]\n",
    "\n",
    "    # Retrieve the scheme name from the scheme_codes dictionary\n",
    "    scheme_name = scheme_codes[scheme_code]\n",
    "\n",
    "    # Add the scheme name and DataFrame to the results list\n",
    "    results.append({\"Scheme Code\": scheme_code, \"Scheme Name\": scheme_name, \"Data\": nav_df})\n",
    "\n",
    "    # Save the DataFrame to an Excel file in the same folder as the script\n",
    "    output_file = os.path.join(\"E:/mftool/\", f\"{scheme_name}_{scheme_code}_returns.xlsx\")\n",
    "    nav_df.to_excel(output_file, index=False)\n",
    "\n",
    "    print(f\"Data for Scheme Code '{scheme_code}' and Scheme Name '{scheme_name}' saved to {output_file}\")\n"
   ]
  },
  {
   "cell_type": "code",
   "execution_count": null,
   "id": "201f092f",
   "metadata": {},
   "outputs": [],
   "source": []
  }
 ],
 "metadata": {
  "kernelspec": {
   "display_name": "Python 3 (ipykernel)",
   "language": "python",
   "name": "python3"
  },
  "language_info": {
   "codemirror_mode": {
    "name": "ipython",
    "version": 3
   },
   "file_extension": ".py",
   "mimetype": "text/x-python",
   "name": "python",
   "nbconvert_exporter": "python",
   "pygments_lexer": "ipython3",
   "version": "3.9.12"
  }
 },
 "nbformat": 4,
 "nbformat_minor": 5
}
